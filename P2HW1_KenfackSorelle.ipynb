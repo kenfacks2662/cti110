{
  "nbformat": 4,
  "nbformat_minor": 0,
  "metadata": {
    "colab": {
      "provenance": [],
      "authorship_tag": "ABX9TyPzYWAbgtQDUpoxjwnKoUA6",
      "include_colab_link": true
    },
    "kernelspec": {
      "name": "python3",
      "display_name": "Python 3"
    },
    "language_info": {
      "name": "python"
    }
  },
  "cells": [
    {
      "cell_type": "markdown",
      "metadata": {
        "id": "view-in-github",
        "colab_type": "text"
      },
      "source": [
        "<a href=\"https://colab.research.google.com/github/kenfacks2662/cti110/blob/main/P2HW1_KenfackSorelle.ipynb\" target=\"_parent\"><img src=\"https://colab.research.google.com/assets/colab-badge.svg\" alt=\"Open In Colab\"/></a>"
      ]
    },
    {
      "cell_type": "code",
      "execution_count": null,
      "metadata": {
        "id": "GAkbu69WefVh"
      },
      "outputs": [],
      "source": [
        "# Kenfack Sorelle\n",
        "# 03/16/2025\n",
        "# P2HW1\n",
        "# A program that calulates and displays travel expenses\n",
        "\n",
        "print(\"This program calulates and displays travel expenses\")\n",
        "print()\n",
        "\n",
        "# This section of the program allows the user to put in information that will be calulated later\n",
        "# for example gas/food/accomodations\n",
        "\n",
        "budget = float(input(\"Enter your budget:  \"))\n",
        "\n",
        "destination = input(\"Enter your travel destination:  \")\n",
        "\n",
        "gas = float(input(\"How much do you think you will spend on gas?  \"))\n",
        "\n",
        "accomodations = float(input(\"Approximately, how much will you need for accomodation/hotel?  \"))\n",
        "\n",
        "food = float(input(\"Last, how much do you need for food?  \"))\n",
        "\n",
        "\n",
        "# Travel Expenses section. all the data above will be calulated and you'll receive your budget plan\n",
        "\n",
        "print()\n",
        "print(\"-------Travel Expenses----------------\")\n",
        "print()\n",
        "\n",
        "# Printing the expenses but making it look pretty\n",
        "\n",
        "print(f\"{'destination:':<18}{destination:<25}\")\n",
        "print(f\"{'budget:':<18}${budget:<25.2f}\")\n",
        "print(f\"{'gas:':<18}${gas:<25.2f}\")\n",
        "print(f\"{'accomodations:':<18}${accomodations:<25,.2f}\")\n",
        "print(f\"{'food:':<18}${food:<25,.2f}\")\n",
        "\n",
        "print(\"--\" * 20)\n",
        "\n",
        "\n",
        "\n",
        "\n",
        "# Your balance that remains\n",
        "\n",
        "print (f\"Remaining Balance ${budget-gas-accomodations-food:.2f}\")"
      ]
    }
  ]
}