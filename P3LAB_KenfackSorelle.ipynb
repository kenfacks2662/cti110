{
  "nbformat": 4,
  "nbformat_minor": 0,
  "metadata": {
    "colab": {
      "provenance": [],
      "authorship_tag": "ABX9TyOhkRuA0K0pipkEMiekXIXv",
      "include_colab_link": true
    },
    "kernelspec": {
      "name": "python3",
      "display_name": "Python 3"
    },
    "language_info": {
      "name": "python"
    }
  },
  "cells": [
    {
      "cell_type": "markdown",
      "metadata": {
        "id": "view-in-github",
        "colab_type": "text"
      },
      "source": [
        "<a href=\"https://colab.research.google.com/github/kenfacks2662/cti110/blob/main/P3LAB_KenfackSorelle.ipynb\" target=\"_parent\"><img src=\"https://colab.research.google.com/assets/colab-badge.svg\" alt=\"Open In Colab\"/></a>"
      ]
    },
    {
      "cell_type": "code",
      "execution_count": null,
      "metadata": {
        "id": "uFmGegOkPyCF"
      },
      "outputs": [],
      "source": [
        "# Kenfack Sorelle\n",
        "# 03-03-2025\n",
        "# P3LAB\n",
        "# Write a program with if/else statments to determine coin combination.\n",
        "# Calculate the most efficient number of dollars, quarters, dimes, nickels, and pennies needed to make the given amount of money. Hint: You will use the // operator and subtraction for the logic.\n",
        "\n",
        "\n",
        "amount_input = float(input('Enter the money as a float:\\n'))\n",
        "\n",
        "# Convert to integer cents\n",
        "cents = round(amount_input * 100)\n",
        "amount_input = cents\n",
        "\n",
        "# Calaculate numbers to meet the amount\n",
        "dollars = amount_input // 100\n",
        "quarters = amount_input % 100 // 25\n",
        "dimes = amount_input % 100 % 25 // 10\n",
        "nickels = amount_input % 100 % 25 % 10 // 5\n",
        "pennies = amount_input % 100 % 25 % 10 % 5 // 1\n",
        "print()\n",
        "\n",
        "if amount_input <= 0:\n",
        "    print(\"No change\")\n",
        "\n",
        "if dollars > 1:\n",
        "    print(str(dollars) + \" Dollars\")\n",
        "elif dollars == 1:\n",
        "    print(str(dollars) + \" Dollar\")\n",
        "else:\n",
        "    pass\n",
        "if quarters > 1:\n",
        "    print(str(quarters) + \" Quarters\")\n",
        "elif quarters == 1:\n",
        "    print(str(quarters) + \" Quarter\")\n",
        "else:\n",
        "    pass\n",
        "if dimes > 1:\n",
        "    print(str(dimes) + \" Dimes\")\n",
        "elif dimes == 1:\n",
        "    print(str(dimes) + \" Dime\")\n",
        "else:\n",
        "    pass\n",
        "if nickels > 1:\n",
        "    print(str(nickels) + \" Nickels\")\n",
        "elif nickels == 1:\n",
        "    print(str(nickels) + \" Nickel\")\n",
        "else:\n",
        "    pass\n",
        "if pennies > 1:\n",
        "    print(str(pennies) + \" Pennies\")\n",
        "elif pennies == 1:\n",
        "    print(str(pennies) + \" Penny\")\n",
        "\n"
      ]
    }
  ]
}