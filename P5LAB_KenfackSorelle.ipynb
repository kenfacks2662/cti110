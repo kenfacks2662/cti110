{
  "nbformat": 4,
  "nbformat_minor": 0,
  "metadata": {
    "colab": {
      "provenance": [],
      "authorship_tag": "ABX9TyP9jFqgYxQ4/VNWWzIC0QmZ",
      "include_colab_link": true
    },
    "kernelspec": {
      "name": "python3",
      "display_name": "Python 3"
    },
    "language_info": {
      "name": "python"
    }
  },
  "cells": [
    {
      "cell_type": "markdown",
      "metadata": {
        "id": "view-in-github",
        "colab_type": "text"
      },
      "source": [
        "<a href=\"https://colab.research.google.com/github/kenfacks2662/cti110/blob/main/P5LAB_KenfackSorelle.ipynb\" target=\"_parent\"><img src=\"https://colab.research.google.com/assets/colab-badge.svg\" alt=\"Open In Colab\"/></a>"
      ]
    },
    {
      "cell_type": "code",
      "execution_count": 2,
      "metadata": {
        "colab": {
          "base_uri": "https://localhost:8080/"
        },
        "id": "-JB-esZ_jAAG",
        "outputId": "58c9e849-759f-472e-fe31-0be6320ae7db"
      },
      "outputs": [
        {
          "output_type": "stream",
          "name": "stdout",
          "text": [
            "Welcome to the Self-Checkout Machine!\n",
            "Your total is: $76.93\n",
            "Enter the amount of cash you will insert: $80.93\n",
            "Change owed: $4.00\n",
            "\n",
            "Change breakdown:\n",
            "Dollars: 4\n",
            "Quarters: 0\n",
            "Dimes: 0\n",
            "Nickels: 0\n",
            "Pennies: 0\n"
          ]
        }
      ],
      "source": [
        "#Kenfack Sorelle\n",
        "#4/17/2025\n",
        "#P5LAB – Self-Checkout Change Dispenser\n",
        "#This program simulates a self-checkout machine: it generates a random total,\n",
        "#takes user input for cash inserted, calculates change, and breaks the change\n",
        "#into dollars, quarters, dimes, nickels, and pennies.\n",
        "\n",
        "import random\n",
        "\n",
        "def disperse_change(change):\n",
        "    # Convert to cents to avoid float issues\n",
        "    change_cents = round(change * 100)\n",
        "\n",
        "    dollars = change_cents // 100\n",
        "    change_cents %= 100\n",
        "\n",
        "    quarters = change_cents // 25\n",
        "    change_cents %= 25\n",
        "\n",
        "    dimes = change_cents // 10\n",
        "    change_cents %= 10\n",
        "\n",
        "    nickels = change_cents // 5\n",
        "    change_cents %= 5\n",
        "\n",
        "    pennies = change_cents\n",
        "\n",
        "    print(\"\\nChange breakdown:\")\n",
        "    print(\"Dollars:\", dollars)\n",
        "    print(\"Quarters:\", quarters)\n",
        "    print(\"Dimes:\", dimes)\n",
        "    print(\"Nickels:\", nickels)\n",
        "    print(\"Pennies:\", pennies)\n",
        "\n",
        "def main():\n",
        "    total = round(random.uniform(0.01, 100.00), 2)\n",
        "    print(\"Welcome to the Self-Checkout Machine!\")\n",
        "    print(f\"Your total is: ${total:.2f}\")\n",
        "\n",
        "    # Get user payment\n",
        "    cash = float(input(\"Enter the amount of cash you will insert: $\"))\n",
        "\n",
        "    if cash < total:\n",
        "        print(\"Insufficient amount. Please enter an amount greater than or equal to the total.\")\n",
        "    else:\n",
        "        change = round(cash - total, 2)\n",
        "        print(f\"Change owed: ${change:.2f}\")\n",
        "        disperse_change(change)\n",
        "\n",
        "# Call main\n",
        "main()\n"
      ]
    }
  ]
}