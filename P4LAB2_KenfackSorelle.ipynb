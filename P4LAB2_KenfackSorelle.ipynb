{
  "nbformat": 4,
  "nbformat_minor": 0,
  "metadata": {
    "colab": {
      "provenance": [],
      "authorship_tag": "ABX9TyN+R4IZm+x9Ot6QSXITt+j/",
      "include_colab_link": true
    },
    "kernelspec": {
      "name": "python3",
      "display_name": "Python 3"
    },
    "language_info": {
      "name": "python"
    }
  },
  "cells": [
    {
      "cell_type": "markdown",
      "metadata": {
        "id": "view-in-github",
        "colab_type": "text"
      },
      "source": [
        "<a href=\"https://colab.research.google.com/github/kenfacks2662/cti110/blob/main/P4LAB2_KenfackSorelle.ipynb\" target=\"_parent\"><img src=\"https://colab.research.google.com/assets/colab-badge.svg\" alt=\"Open In Colab\"/></a>"
      ]
    },
    {
      "cell_type": "code",
      "execution_count": null,
      "metadata": {
        "id": "u35G0hAVpPj6"
      },
      "outputs": [],
      "source": [
        "# Kenfack Sorelle\n",
        "# April 4, 2025\n",
        "# P4LAB2\n",
        "#Loop\n",
        "\n",
        "run_again = 'yes'\n",
        "\n",
        "while run_again != \"no\":\n",
        "\n",
        "    user_num = int(input(\"Enter an integer: \"))\n",
        "\n",
        "    if user_num >= 0:\n",
        "        for item in range(1, 13):\n",
        "            print(f\"{user_num} * {item} = {user_num * item}\")\n",
        "\n",
        "    else:\n",
        "         print(\"This program does not handle negatives values\")\n",
        "\n",
        "    run_again = input(\"Would you like to run the program again? \")\n",
        "print(\"program is ending....\")"
      ]
    },
    {
      "cell_type": "markdown",
      "source": [],
      "metadata": {
        "id": "tMH5_G6zpUGf"
      }
    }
  ]
}