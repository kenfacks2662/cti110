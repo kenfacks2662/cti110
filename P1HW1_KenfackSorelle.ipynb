{
  "nbformat": 4,
  "nbformat_minor": 0,
  "metadata": {
    "colab": {
      "provenance": [],
      "authorship_tag": "ABX9TyPCBVFixWoBMAI6vOZBP4LZ",
      "include_colab_link": true
    },
    "kernelspec": {
      "name": "python3",
      "display_name": "Python 3"
    },
    "language_info": {
      "name": "python"
    }
  },
  "cells": [
    {
      "cell_type": "markdown",
      "metadata": {
        "id": "view-in-github",
        "colab_type": "text"
      },
      "source": [
        "<a href=\"https://colab.research.google.com/github/kenfacks2662/cti110/blob/main/P1HW1_KenfackSorelle.ipynb\" target=\"_parent\"><img src=\"https://colab.research.google.com/assets/colab-badge.svg\" alt=\"Open In Colab\"/></a>"
      ]
    },
    {
      "cell_type": "code",
      "execution_count": null,
      "metadata": {
        "id": "91IsbuvZ-w7K"
      },
      "outputs": [],
      "source": [
        "# Kenfack Sorelle\n",
        "# 03/02/2025\n",
        "# P1HW1\n",
        "# Using math expressions with user input\n",
        "\n",
        "print(\"-------Calulating Exponents-------\")\n",
        "\n",
        "print()\n",
        "print()\n",
        "\n",
        "#get integer from the string\n",
        "base_value = int (input(\"Enter an integer as the base value: \"))\n",
        "exponent = int (input(\"Enter an interger as the exponent: \"))\n",
        "\n",
        "print()\n",
        "print()\n",
        "\n",
        "# Display math result to the user\n",
        "print(base_value, \"raised to the power of\", exponent, \"is\", base_value**exponent, \"!!\")\n",
        "\n",
        "print()\n",
        "print()\n",
        "\n",
        "#Addition and Subtraction Section\n",
        "print(\"-------Addition and Subtraction-------\")\n",
        "print()\n",
        "print()\n",
        "\n",
        "#Enter a starting integer\n",
        "starting = int (input(\"Enter a starting integer:  \"))\n",
        "\n",
        "#Enter an integer to add\n",
        "add = int (input(\"Enter an integer to add:  \"))\n",
        "\n",
        "#Enter an integer to subtract\n",
        "subtract = int (input(\"Enter an integer to subtract:  \"))\n",
        "\n",
        "print()\n",
        "print()\n",
        "\n",
        "#Display math result to user\n",
        "print(starting, \"+\", add, \"-\", subtract, \"is equal to\", starting + add - subtract)\n"
      ]
    }
  ]
}