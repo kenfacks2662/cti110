{
  "nbformat": 4,
  "nbformat_minor": 0,
  "metadata": {
    "colab": {
      "provenance": [],
      "authorship_tag": "ABX9TyOlho2j0kkL720VlihY4tvD",
      "include_colab_link": true
    },
    "kernelspec": {
      "name": "python3",
      "display_name": "Python 3"
    },
    "language_info": {
      "name": "python"
    }
  },
  "cells": [
    {
      "cell_type": "markdown",
      "metadata": {
        "id": "view-in-github",
        "colab_type": "text"
      },
      "source": [
        "<a href=\"https://colab.research.google.com/github/kenfacks2662/cti110/blob/main/P1LAB1_Kenfacksorelle.ipynb\" target=\"_parent\"><img src=\"https://colab.research.google.com/assets/colab-badge.svg\" alt=\"Open In Colab\"/></a>"
      ]
    },
    {
      "cell_type": "code",
      "execution_count": null,
      "metadata": {
        "colab": {
          "base_uri": "https://localhost:8080/"
        },
        "id": "zRfp57jq4jFZ",
        "outputId": "80d18662-ff24-4fda-db3c-9cbf960bd53e"
      },
      "outputs": [
        {
          "output_type": "stream",
          "name": "stdout",
          "text": [
            "Enter your first name: Sorelle\n",
            "Enter your last name: Kenfack\n",
            "Hello, Sorelle Kenfack! Welcome to CTI-110\n"
          ]
        }
      ],
      "source": [
        "#Kenfack Sorelle\n",
        "# 2/23/2025\n",
        "# P1lab1\n",
        "# Using input and print functions\n",
        "# Get infor from user\n",
        "f_name = input(\"Enter your first name: \")\n",
        "l_name = input(\"Enter your last name: \")\n",
        "# Display greeting to user\n",
        "print(\"Hello,\", f_name, l_name + \"!\", \"Welcome to CTI-110\")"
      ]
    }
  ]
}