{
  "nbformat": 4,
  "nbformat_minor": 0,
  "metadata": {
    "colab": {
      "provenance": [],
      "authorship_tag": "ABX9TyN86OeH9Y6UBRWoSuae4Aq8",
      "include_colab_link": true
    },
    "kernelspec": {
      "name": "python3",
      "display_name": "Python 3"
    },
    "language_info": {
      "name": "python"
    }
  },
  "cells": [
    {
      "cell_type": "markdown",
      "metadata": {
        "id": "view-in-github",
        "colab_type": "text"
      },
      "source": [
        "<a href=\"https://colab.research.google.com/github/kenfacks2662/cti110/blob/main/P3HW1_KenfackSorelle_py.ipynb\" target=\"_parent\"><img src=\"https://colab.research.google.com/assets/colab-badge.svg\" alt=\"Open In Colab\"/></a>"
      ]
    },
    {
      "cell_type": "code",
      "execution_count": 1,
      "metadata": {
        "colab": {
          "base_uri": "https://localhost:8080/"
        },
        "id": "5Cec2VW7FfEB",
        "outputId": "faa12161-d9af-4f74-b215-b84a19528f0f"
      },
      "outputs": [
        {
          "output_type": "stream",
          "name": "stdout",
          "text": [
            "Enter grade for Module 1: 86.5\n",
            "Enter grade for Module 2: 80\n",
            "Enter grade for Module 3: 76.9\n",
            "Enter grade for Module 1: 90\n",
            "Enter grade for Module 5: 79\n",
            "Enter grade for Module 6: 88\n",
            "\n",
            "----------------Results---------------\n",
            "\n",
            "Lowest Grade: 76.9\n",
            "Highest Grade: 90.0\n",
            "Sum of Grades: 500.4\n",
            "Average: 83.40\n",
            "----------------------------------------\n",
            "Your grade is: B\n"
          ]
        }
      ],
      "source": [
        "# Kenfack Sorelle\n",
        "# 03-05-2025\n",
        "# P3HW1\n",
        "\n",
        "#Description: Correcting a program that has bugs\n",
        "\n",
        "\n",
        "# This program takes a number grade , determines average and displays letter grade for average.\n",
        "\n",
        "# Enter grades for six modules\n",
        "\n",
        "mod_1 = float(input('Enter grade for Module 1: '))\n",
        "mod_2 = float(input('Enter grade for Module 2: '))\n",
        "mod_3 = float(input('Enter grade for Module 3: '))\n",
        "mod_4 = float(input('Enter grade for Module 4: '))\n",
        "mod_5 = float(input('Enter grade for Module 5: '))\n",
        "mod_6 = float(input('Enter grade for Module 6: '))\n",
        "\n",
        "# Add grades entered to a list\n",
        "\n",
        "grades = [mod_1, mod_2, mod_3, mod_4, mod_5, mod_6]\n",
        "\n",
        "# Determine lowest, highest , sum and average for grades\n",
        "\n",
        "low = min(grades)\n",
        "high = max(grades)\n",
        "total = sum(grades)\n",
        "avg = total / len(grades)\n",
        "\n",
        "print(\"\\n----------------Results---------------\")\n",
        "print(f\"\\nLowest Grade: {low}\")\n",
        "print(f\"Highest Grade: {high}\")\n",
        "print(f\"Sum of Grades: {total}\")\n",
        "print(f\"Average: {avg:.2f}\")\n",
        "print(\"----------------------------------------\")\n",
        "\n",
        "# determine letter grade for average\n",
        "\n",
        "\n",
        "if avg >= 90:\n",
        "    print('Your grade is: A')\n",
        "elif avg >= 80:\n",
        "    print('Your grade is: B')\n",
        "elif avg >= 70:\n",
        "    print('Your grade is: C')\n",
        "elif avg >= 60:\n",
        "    print('Your grade is: D')\n",
        "else:\n",
        "    print('Your grade is: F')"
      ]
    }
  ]
}